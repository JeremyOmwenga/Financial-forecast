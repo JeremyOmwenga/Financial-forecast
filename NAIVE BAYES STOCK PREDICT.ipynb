{
 "cells": [
  {
   "cell_type": "markdown",
   "id": "1c288d37",
   "metadata": {},
   "source": [
    "# Stock Price Predictor using Naive Bayes\n",
    "This notebook predicts stock movement direction using a Naive Bayes classifier."
   ]
  },
  {
   "cell_type": "code",
   "execution_count": 1,
   "id": "532793fa",
   "metadata": {},
   "outputs": [],
   "source": [
    "import numpy as np\n",
    "import pandas as pd\n",
    "import yfinance as yf\n",
    "from sklearn.model_selection import train_test_split\n",
    "from sklearn.naive_bayes import GaussianNB\n",
    "import streamlit as st\n",
    "import matplotlib.pyplot as plt"
   ]
  },
  {
   "cell_type": "markdown",
   "id": "7468628c",
   "metadata": {},
   "source": [
    "## Input Stock Symbol and Fetch Data"
   ]
  },
  {
   "cell_type": "code",
   "execution_count": 2,
   "id": "363a76db",
   "metadata": {},
   "outputs": [
    {
     "name": "stderr",
     "output_type": "stream",
     "text": [
      "2025-01-22 08:00:30.588 WARNING streamlit.runtime.scriptrunner_utils.script_run_context: Thread 'MainThread': missing ScriptRunContext! This warning can be ignored when running in bare mode.\n",
      "2025-01-22 08:00:30.588 WARNING streamlit.runtime.scriptrunner_utils.script_run_context: Thread 'MainThread': missing ScriptRunContext! This warning can be ignored when running in bare mode.\n",
      "2025-01-22 08:00:30.588 WARNING streamlit.runtime.scriptrunner_utils.script_run_context: Thread 'MainThread': missing ScriptRunContext! This warning can be ignored when running in bare mode.\n",
      "2025-01-22 08:00:30.588 WARNING streamlit.runtime.scriptrunner_utils.script_run_context: Thread 'MainThread': missing ScriptRunContext! This warning can be ignored when running in bare mode.\n",
      "2025-01-22 08:00:30.592 WARNING streamlit.runtime.state.session_state_proxy: Session state does not function when running a script without `streamlit run`\n",
      "2025-01-22 08:00:30.592 WARNING streamlit.runtime.scriptrunner_utils.script_run_context: Thread 'MainThread': missing ScriptRunContext! This warning can be ignored when running in bare mode.\n",
      "2025-01-22 08:00:31.254 \n",
      "  \u001b[33m\u001b[1mWarning:\u001b[0m to view this Streamlit app on a browser, run it with the following\n",
      "  command:\n",
      "\n",
      "    streamlit run C:\\Users\\jerem\\OneDrive\\Desktop\\sav2\\env\\Lib\\site-packages\\ipykernel_launcher.py [ARGUMENTS]\n",
      "2025-01-22 08:00:31.254 Thread 'MainThread': missing ScriptRunContext! This warning can be ignored when running in bare mode.\n",
      "[*********************100%***********************]  1 of 1 completed\n",
      "2025-01-22 08:00:32.653 Thread 'MainThread': missing ScriptRunContext! This warning can be ignored when running in bare mode.\n",
      "2025-01-22 08:00:32.653 Thread 'MainThread': missing ScriptRunContext! This warning can be ignored when running in bare mode.\n",
      "2025-01-22 08:00:32.669 Thread 'MainThread': missing ScriptRunContext! This warning can be ignored when running in bare mode.\n",
      "2025-01-22 08:00:32.669 Thread 'MainThread': missing ScriptRunContext! This warning can be ignored when running in bare mode.\n"
     ]
    }
   ],
   "source": [
    "\n",
    "# Input stock symbol and date range\n",
    "stock = st.text_input('Enter Stock Symbol', 'GOOG')\n",
    "start = '2010-01-01'\n",
    "end = '2023-12-31'\n",
    "\n",
    "# Download stock data\n",
    "data = yf.download(stock, start, end)\n",
    "\n",
    "st.subheader('Stock Data')\n",
    "st.write(data)\n",
    "\n",
    "# Handle cases where 'Adj Close' might not be present\n",
    "if 'Adj Close' in data.columns:\n",
    "    price_column = 'Adj Close'\n",
    "else:\n",
    "    price_column = 'Close'"
   ]
  },
  {
   "cell_type": "markdown",
   "id": "c1579b10",
   "metadata": {},
   "source": [
    "## Feature Engineering"
   ]
  },
  {
   "cell_type": "code",
   "execution_count": 3,
   "id": "91b38fd2",
   "metadata": {},
   "outputs": [],
   "source": [
    "# Feature engineering\n",
    "data['Return'] = data[price_column].pct_change()\n",
    "data['MA50'] = data[price_column].rolling(window=50).mean()\n",
    "data['MA200'] = data[price_column].rolling(window=200).mean()\n",
    "data['Volatility'] = data[price_column].rolling(window=20).std()\n",
    "data['Direction'] = np.where(data['Return'] > 0, 1, 0)  # Direction as target\n",
    "data = data.dropna()\n",
    "\n",
    "# Prepare features and target\n",
    "X = data[['MA50', 'MA200', 'Volatility']]\n",
    "y = data['Direction']"
   ]
  },
  {
   "cell_type": "markdown",
   "id": "6bf9d9d7",
   "metadata": {},
   "source": [
    "## Train-Test Split and Model Training"
   ]
  },
  {
   "cell_type": "code",
   "execution_count": 4,
   "id": "d979fac3",
   "metadata": {},
   "outputs": [],
   "source": [
    "# Train-test split\n",
    "X_train, X_test, y_train, y_test = train_test_split(X, y, test_size=0.2, random_state=42)\n",
    "\n",
    "# Train Naive Bayes model\n",
    "model = GaussianNB()\n",
    "model.fit(X_train, y_train)\n",
    "\n",
    "# Make predictions\n",
    "y_pred = model.predict(X_test)"
   ]
  },
  {
   "cell_type": "markdown",
   "id": "98e95eef",
   "metadata": {},
   "source": [
    "## Visualization: Moving Averages"
   ]
  },
  {
   "cell_type": "code",
   "execution_count": 5,
   "id": "037a2446",
   "metadata": {},
   "outputs": [],
   "source": [
    "# Visualization: Moving Averages\n",
    "import matplotlib.pyplot as plt\n",
    "import matplotlib\n",
    "matplotlib.use('TkAgg')\n",
    "plt.figure(figsize=(10, 6))\n",
    "plt.plot(data[price_column], label='Actual Price', color='blue')\n",
    "plt.plot(data['MA50'], label='50-Day MA', color='red')\n",
    "plt.plot(data['MA200'], label='200-Day MA', color='green')\n",
    "plt.title('Price and Moving Averages')\n",
    "plt.legend()\n",
    "plt.show()"
   ]
  },
  {
   "cell_type": "markdown",
   "id": "481a1eca",
   "metadata": {},
   "source": [
    "## Prediction Accuracy"
   ]
  },
  {
   "cell_type": "code",
   "execution_count": 6,
   "id": "903aa5b3",
   "metadata": {},
   "outputs": [],
   "source": [
    "# Display prediction metrics\n",
    "#accuracy = np.mean(y_pred == y_test) * 100\n",
    "#st.subheader('Prediction Accuracy')\n",
    "#st.write(f'Accuracy: {accuracy:.2f}%')"
   ]
  },
  {
   "cell_type": "markdown",
   "id": "1cdb6174",
   "metadata": {},
   "source": [
    "## Predicted vs Actual Direction"
   ]
  },
  {
   "cell_type": "code",
   "execution_count": 7,
   "id": "0df5df3f",
   "metadata": {},
   "outputs": [],
   "source": [
    "# Plot Predictions\n",
    "import matplotlib.pyplot as plt\n",
    "import matplotlib\n",
    "matplotlib.use('Qt5Agg')\n",
    "plt.figure(figsize=(10, 6))\n",
    "plt.plot(y_test.values, label='Actual Direction', color='red')\n",
    "plt.plot(y_pred, label='Predicted Direction', color='green', alpha=0.7)\n",
    "plt.title(f'{stock} Direction Prediction')\n",
    "plt.xlabel('Samples')\n",
    "plt.ylabel('Direction (1 = Up, 0 = Down)')\n",
    "plt.legend()\n",
    "plt.show()"
   ]
  },
  {
   "cell_type": "code",
   "execution_count": null,
   "id": "5aa3abf5-a372-417c-a473-5b6a91374e10",
   "metadata": {},
   "outputs": [],
   "source": []
  }
 ],
 "metadata": {
  "kernelspec": {
   "display_name": "Python 3 (ipykernel)",
   "language": "python",
   "name": "python3"
  },
  "language_info": {
   "codemirror_mode": {
    "name": "ipython",
    "version": 3
   },
   "file_extension": ".py",
   "mimetype": "text/x-python",
   "name": "python",
   "nbconvert_exporter": "python",
   "pygments_lexer": "ipython3",
   "version": "3.12.8"
  }
 },
 "nbformat": 4,
 "nbformat_minor": 5
}
